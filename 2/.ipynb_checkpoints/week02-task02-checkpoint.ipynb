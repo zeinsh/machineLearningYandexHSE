{
 "cells": [
  {
   "cell_type": "markdown",
   "metadata": {},
   "source": [
    "# K Nearset Neighbors Regressor\n",
    "## Programming Assignment: Выбор метрики"
   ]
  },
  {
   "cell_type": "markdown",
   "metadata": {},
   "source": [
    "We will use the Boston dataset in this task, where we need to predict the cost of housing based on various characteristics of location (air pollution, proximity to roads, etc.). More details about the features can be read at https://archive.ics.uci.edu/ml/machine-learning-databases/housing/\n",
    "\n",
    "Мы будем использовать в данном задании набор данных Boston, где нужно предсказать стоимость жилья на основе различных характеристик расположения (загрязненность воздуха, близость к дорогам и т.д.). Подробнее о признаках можно почитать по адресу https://archive.ics.uci.edu/ml/machine-learning-databases/housing/"
   ]
  },
  {
   "cell_type": "code",
   "execution_count": 1,
   "metadata": {},
   "outputs": [],
   "source": [
    "import numpy as np\n",
    "import pandas\n",
    "from lib.helpersmd import write_to_file"
   ]
  },
  {
   "cell_type": "markdown",
   "metadata": {},
   "source": [
    "1- Download the <B>Boston sample</B> using the <B>sklearn.datasets.load_boston()</B> function. \n",
    "\n",
    "The result of calling this function is an object whose attributes are written in the data field, and the target vector in the target field.\n",
    "\n",
    "1- Загрузите выборку Boston с помощью функции <B>sklearn.datasets.load_boston()</B>. Результатом вызова данной функции является объект, у которого признаки записаны в поле data, а целевой вектор — в поле target."
   ]
  },
  {
   "cell_type": "code",
   "execution_count": 2,
   "metadata": {},
   "outputs": [],
   "source": [
    "#1 load boston dataset\n",
    "from sklearn import datasets\n",
    "data=datasets.load_boston()\n",
    "X=data['data']\n",
    "y=data['target']"
   ]
  },
  {
   "cell_type": "markdown",
   "metadata": {},
   "source": [
    "2- Bring the features in the sample to the same scale using the function <B>sklearn.preprocessing.scale</B>.\n",
    "\n",
    "Приведите признаки в выборке к одному масштабу при помощи функции <B>sklearn.preprocessing.scale</B>."
   ]
  },
  {
   "cell_type": "code",
   "execution_count": 3,
   "metadata": {},
   "outputs": [],
   "source": [
    "# scaling features\n",
    "from sklearn.preprocessing import scale\n",
    "X_norm=scale(X,with_mean=True,with_std=True)"
   ]
  },
  {
   "cell_type": "markdown",
   "metadata": {},
   "source": [
    "3- \n",
    "- Go through various options for the metric p parameter on the grid from 1 to 10 in such a way that only 200 variants are tested (use the <B>numpy.linspace</B> function).\n",
    "- Use <B>KNeighborsRegressor</B> with hyperparameters :\n",
    "    - n_neighbors = 5 \n",
    "    - weights = 'distance' - this option adds weights to the algorithm, depending on the distance to the nearest neighbors. \n",
    "- As the <B>quality metric</B>, \n",
    "    - use the <B>root-mean-square error</B> (<B>scoring = 'mean_squared_error' parameter for cross_val_score;</B> when using scikit-learn version 0.18.1 and higher, <B>scoring = 'neg_mean_squared_error'</B>) should be specified. \n",
    "    \n",
    "- Evaluate the <B>quality</B> as in the previous task, using <B>cross-validation</B> for <B>5 blocks</B> with <B>random_state = 42</B>, do not forget to enable <B>shuffle = True</B>.\n",
    "\n",
    "Переберите разные варианты параметра метрики p по сетке от 1 до 10 с таким шагом, чтобы всего было протестировано 200 вариантов (используйте функцию numpy.linspace). Используйте KNeighborsRegressor с n_neighbors=5 и weights='distance' — данный параметр добавляет в алгоритм веса, зависящие от расстояния до ближайших соседей. В качестве метрики качества используйте среднеквадратичную ошибку (параметр scoring='mean_squared_error' у cross_val_score; при использовании библиотеки scikit-learn версии 0.18.1 и выше необходимо указывать scoring='neg_mean_squared_error'). Качество оценивайте, как и в предыдущем задании, с помощью кросс-валидации по 5 блокам с random_state = 42, не забудьте включить перемешивание выборки (shuffle=True)."
   ]
  },
  {
   "cell_type": "code",
   "execution_count": 4,
   "metadata": {},
   "outputs": [],
   "source": [
    "#3 \n",
    "from sklearn.model_selection import KFold\n",
    "# for cross validation , we use kfold to split dataset into train/dev set \n",
    "random_state=42\n",
    "n_splits=5   # number of blocks\n",
    "shuffle=True # randomly split the data\n",
    "kfold = KFold(n_splits=n_splits,shuffle=shuffle, random_state=random_state)\n",
    "\n",
    "from sklearn.neighbors import KNeighborsRegressor\n",
    "from sklearn.model_selection import cross_val_score\n",
    "# KNN Regressor parameters\n",
    "n_neighbors=5       # number of nearest neighbers\n",
    "weights='distance'  # adds weights to the algorithm, depending on the distance to the nearest neighbors.\n",
    "\n",
    "# cross validation quality metric\n",
    "scoring = 'neg_mean_squared_error'"
   ]
  },
  {
   "cell_type": "markdown",
   "metadata": {},
   "source": [
    "4- Determine for which p the quality of the cross-validation was optimal. \n",
    "\n",
    "Note that cross_val_score returns an array of quality indicators by blocks; it is necessary to maximize the average of these indicators. This value of the parameter will be the answer to the problem\n",
    "\n",
    "4- Определите, при каком p качество на кросс-валидации оказалось оптимальным. Обратите внимание, что cross_val_score возвращает массив показателей качества по блокам; необходимо максимизировать среднее этих показателей. Это значение параметра и будет ответом на задачу\n",
    "\n",
    "#### P is the power parameter for the Minkowski metric. When p = 1, this is equivalent to using manhattan_distance (l1), and euclidean_distance (l2) for p = 2. For arbitrary p, minkowski_distance (l_p) is used."
   ]
  },
  {
   "cell_type": "code",
   "execution_count": 5,
   "metadata": {},
   "outputs": [],
   "source": [
    "#4 \n",
    "mx=pmx=-1000 \n",
    "for p in np.linspace(1,10,200):\n",
    "    neigh = KNeighborsRegressor(n_neighbors=n_neighbors ,weights=weights,p=p)\n",
    "    results=cross_val_score(neigh, X, y, cv=kfold,scoring = scoring).mean()\n",
    "    if results>mx:mx,pmx=results,p\n",
    "ans=\"{:0.2f}\".format(pmx)\n",
    "write_to_file(ans,\"week%d-A%dT%d.out\"%(2,2,1))"
   ]
  }
 ],
 "metadata": {
  "kernelspec": {
   "display_name": "Python 2",
   "language": "python",
   "name": "python2"
  },
  "language_info": {
   "codemirror_mode": {
    "name": "ipython",
    "version": 2
   },
   "file_extension": ".py",
   "mimetype": "text/x-python",
   "name": "python",
   "nbconvert_exporter": "python",
   "pygments_lexer": "ipython2",
   "version": "2.7.12"
  }
 },
 "nbformat": 4,
 "nbformat_minor": 2
}
