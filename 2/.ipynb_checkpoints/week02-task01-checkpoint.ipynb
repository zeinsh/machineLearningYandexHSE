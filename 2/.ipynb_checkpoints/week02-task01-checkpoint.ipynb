{
 "cells": [
  {
   "cell_type": "code",
   "execution_count": 1,
   "metadata": {},
   "outputs": [],
   "source": [
    "import numpy as np\n",
    "import pandas\n",
    "from lib.helpersmd import write_to_file"
   ]
  },
  {
   "cell_type": "code",
   "execution_count": 7,
   "metadata": {},
   "outputs": [],
   "source": [
    "#load dataset , split X,Y\n",
    "data=pandas.read_csv('wine.data',header=None)\n",
    "data=data.as_matrix(columns=None)\n",
    "y=data[:,0]\n",
    "X=data[:,1:]"
   ]
  },
  {
   "cell_type": "code",
   "execution_count": 9,
   "metadata": {},
   "outputs": [
    {
     "name": "stdout",
     "output_type": "stream",
     "text": [
      "1 0.730476190476\n"
     ]
    }
   ],
   "source": [
    "#  2.  Cross validation iterators\n",
    "from sklearn.model_selection import KFold\n",
    "#shuffle=True for randomly mixing objects of the sample\n",
    "kf = KFold(n_splits=5,shuffle=True,random_state=42)\n",
    "#for train, test in kf.split(X):\n",
    "#     print(\"%s %s\" % (train, test))\n",
    "\n",
    "from sklearn.neighbors import KNeighborsClassifier\n",
    "from sklearn.model_selection import cross_val_score\n",
    "val_max=0\n",
    "k_max=0\n",
    "for k in range(1,51): #(1,51):\n",
    "    S=0\n",
    "    for train, test in kf.split(X):\n",
    "        # print(\"%s %s\" % (train, test))\n",
    "\tXtrain=X[train]\n",
    "\tytrain=y[train]\n",
    "\tXtest=X[test]\n",
    "\tytest=y[test]\n",
    "        neigh = KNeighborsClassifier(n_neighbors=k)\n",
    "        neigh.fit(Xtrain, ytrain) \n",
    "\tval=sum(neigh.predict(Xtest)==ytest)/float(len(ytest))\n",
    "\tS+=val\n",
    "    S/=5\n",
    "    if S>val_max:\n",
    "\tval_max=S\n",
    "\tk_max=k\n",
    "print k_max,val_max\n",
    "\n",
    "\n",
    "f1=open('ans1.out','w')\n",
    "f1.write(str(k_max))\n",
    "f1.close()\n",
    "f2=open('ans2.out','w')\n",
    "f2.write(str(val_max))\n",
    "f2.close()"
   ]
  },
  {
   "cell_type": "code",
   "execution_count": 2,
   "metadata": {},
   "outputs": [
    {
     "name": "stdout",
     "output_type": "stream",
     "text": [
      "178\n",
      "1 0.730476190476\n",
      "29 0.977619047619\n"
     ]
    },
    {
     "data": {
      "text/plain": [
       "'from sklearn.neighbors import KNeighborsClassifier\\nneigh = KNeighborsClassifier(n_neighbors=3)\\nneigh.fit(X, y) \\n#print(neigh.predict(test))\\n#print(neigh.predict_proba([[0.9]]))\\n\\n\\n# cross_val_score \\nfrom sklearn import datasets, linear_model\\nfrom sklearn.model_selection import cross_val_score\\n#diabetes = datasets.load_diabetes()\\nfor train, test in kf.split(X):\\n    print(\"%s %s\" % (train, test))\\n    lasso = linear_model.Lasso()\\n    xTrain=X[train]\\n    yTrain=Y[train]\\n    xTest=X[test]\\n    yTest=Y[test]\\n\\n'"
      ]
     },
     "execution_count": 2,
     "metadata": {},
     "output_type": "execute_result"
    }
   ],
   "source": [
    "\n",
    "from sklearn.preprocessing import scale\n",
    "for i in range(13):\n",
    "    col=X[:,i]\n",
    "    col=scale(col,with_mean=True,with_std=True)\n",
    "    X[:,i]=col\n",
    "\n",
    "\n",
    "val_max=0\n",
    "k_max=0\n",
    "for k in range(1,51): #(1,51):\n",
    "    S=0\n",
    "    for train, test in kf.split(X):\n",
    "        # print(\"%s %s\" % (train, test))\n",
    "        Xtrain=X[train]\n",
    "        ytrain=y[train]\n",
    "        Xtest=X[test]\n",
    "        ytest=y[test]\n",
    "        neigh = KNeighborsClassifier(n_neighbors=k)\n",
    "        neigh.fit(Xtrain, ytrain) \n",
    "        val=sum(neigh.predict(Xtest)==ytest)/float(len(ytest))\n",
    "        S+=val\n",
    "    S/=5\n",
    "    if S>val_max:\n",
    "        val_max=S\n",
    "        k_max=k\n",
    "print k_max,val_max\n",
    "f3=open('ans3.out','w')\n",
    "f3.write(str(k_max))\n",
    "f3.close()\n",
    "f4=open('ans4.out','w')\n",
    "f4.write(str(val_max))\n",
    "f4.close()\n",
    "\n",
    "#\tret=cross_val_score(neigh, Xtest, ytest)\n",
    "#\tS[0]+=ret[0]\n",
    "#\tS[1]+=ret[1]\n",
    "#\tS[2]+=ret[2]\n",
    "#    S[0]/=5\n",
    "#    S[1]/=5\n",
    "#    S[2]/=5\n",
    "#    print k,S\n",
    "'''from sklearn.neighbors import KNeighborsClassifier\n",
    "neigh = KNeighborsClassifier(n_neighbors=3)\n",
    "neigh.fit(X, y) \n",
    "#print(neigh.predict(test))\n",
    "#print(neigh.predict_proba([[0.9]]))\n",
    "\n",
    "\n",
    "# cross_val_score \n",
    "from sklearn import datasets, linear_model\n",
    "from sklearn.model_selection import cross_val_score\n",
    "#diabetes = datasets.load_diabetes()\n",
    "for train, test in kf.split(X):\n",
    "    print(\"%s %s\" % (train, test))\n",
    "    lasso = linear_model.Lasso()\n",
    "    xTrain=X[train]\n",
    "    yTrain=Y[train]\n",
    "    xTest=X[test]\n",
    "    yTest=Y[test]\n",
    "\n",
    "'''"
   ]
  }
 ],
 "metadata": {
  "kernelspec": {
   "display_name": "Python 2",
   "language": "python",
   "name": "python2"
  },
  "language_info": {
   "codemirror_mode": {
    "name": "ipython",
    "version": 2
   },
   "file_extension": ".py",
   "mimetype": "text/x-python",
   "name": "python",
   "nbconvert_exporter": "python",
   "pygments_lexer": "ipython2",
   "version": "2.7.12"
  }
 },
 "nbformat": 4,
 "nbformat_minor": 2
}
