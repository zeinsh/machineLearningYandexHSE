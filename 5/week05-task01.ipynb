{
 "cells": [
  {
   "cell_type": "markdown",
   "metadata": {},
   "source": [
    "## The size of random forest\n",
    "\n",
    "## Programming Assignment: Размер случайного леса"
   ]
  },
  {
   "cell_type": "code",
   "execution_count": 1,
   "metadata": {},
   "outputs": [],
   "source": [
    "import numpy as np\n",
    "import pandas\n",
    "from lib.helpersmd import write_to_file"
   ]
  },
  {
   "cell_type": "code",
   "execution_count": 2,
   "metadata": {},
   "outputs": [
    {
     "name": "stdout",
     "output_type": "stream",
     "text": [
      "  Sex  Length  Diameter  Height  WholeWeight  ShuckedWeight  VisceraWeight  \\\n",
      "0   M   0.455     0.365   0.095       0.5140         0.2245         0.1010   \n",
      "1   M   0.350     0.265   0.090       0.2255         0.0995         0.0485   \n",
      "2   F   0.530     0.420   0.135       0.6770         0.2565         0.1415   \n",
      "3   M   0.440     0.365   0.125       0.5160         0.2155         0.1140   \n",
      "4   I   0.330     0.255   0.080       0.2050         0.0895         0.0395   \n",
      "\n",
      "   ShellWeight  Rings  \n",
      "0        0.150     15  \n",
      "1        0.070      7  \n",
      "2        0.210      9  \n",
      "3        0.155     10  \n",
      "4        0.055      7  \n",
      "            Length     Diameter       Height  WholeWeight  ShuckedWeight  \\\n",
      "count  4177.000000  4177.000000  4177.000000  4177.000000    4177.000000   \n",
      "mean      0.523992     0.407881     0.139516     0.828742       0.359367   \n",
      "std       0.120093     0.099240     0.041827     0.490389       0.221963   \n",
      "min       0.075000     0.055000     0.000000     0.002000       0.001000   \n",
      "25%       0.450000     0.350000     0.115000     0.441500       0.186000   \n",
      "50%       0.545000     0.425000     0.140000     0.799500       0.336000   \n",
      "75%       0.615000     0.480000     0.165000     1.153000       0.502000   \n",
      "max       0.815000     0.650000     1.130000     2.825500       1.488000   \n",
      "\n",
      "       VisceraWeight  ShellWeight        Rings  \n",
      "count    4177.000000  4177.000000  4177.000000  \n",
      "mean        0.180594     0.238831     9.933684  \n",
      "std         0.109614     0.139203     3.224169  \n",
      "min         0.000500     0.001500     1.000000  \n",
      "25%         0.093500     0.130000     8.000000  \n",
      "50%         0.171000     0.234000     9.000000  \n",
      "75%         0.253000     0.329000    11.000000  \n",
      "max         0.760000     1.005000    29.000000  \n",
      "<class 'pandas.core.frame.DataFrame'>\n",
      "RangeIndex: 4177 entries, 0 to 4176\n",
      "Data columns (total 9 columns):\n",
      "Sex              4177 non-null object\n",
      "Length           4177 non-null float64\n",
      "Diameter         4177 non-null float64\n",
      "Height           4177 non-null float64\n",
      "WholeWeight      4177 non-null float64\n",
      "ShuckedWeight    4177 non-null float64\n",
      "VisceraWeight    4177 non-null float64\n",
      "ShellWeight      4177 non-null float64\n",
      "Rings            4177 non-null int64\n",
      "dtypes: float64(7), int64(1), object(1)\n",
      "memory usage: 293.8+ KB\n",
      "None\n"
     ]
    }
   ],
   "source": [
    "data=pandas.read_csv('abalone.csv')\n",
    "print data.head()\n",
    "print data.describe()\n",
    "print data.info()"
   ]
  },
  {
   "cell_type": "markdown",
   "metadata": {},
   "source": [
    "Преобразуйте признак Sex в числовой: значение F должно перейти в -1, I — в 0, M — в 1. Если вы используете Pandas, то подойдет следующий код: data['Sex'] = data['Sex'].map(lambda x: 1 if x == 'M' else (-1 if x == 'F' else 0))\n",
    "\n",
    "Разделите содержимое файлов на признаки и целевую переменную. В последнем столбце записана целевая переменная, в остальных — признаки."
   ]
  },
  {
   "cell_type": "code",
   "execution_count": 3,
   "metadata": {},
   "outputs": [],
   "source": [
    "data['Sex'] = data['Sex'].map(lambda x: 1 if x == 'M' else (-1 if x == 'F' else 0))\n",
    "y=data['Rings']\n",
    "X=data.drop('Rings',1)"
   ]
  },
  {
   "cell_type": "markdown",
   "metadata": {},
   "source": [
    "Обучите случайный лес (sklearn.ensemble.RandomForestRegressor) с различным числом деревьев: от 1 до 50 (не забудьте выставить \"random_state=1\" в конструкторе). Для каждого из вариантов оцените качество работы полученного леса на кросс-валидации по 5 блокам. Используйте параметры \"random_state=1\" и \"shuffle=True\" при создании генератора кросс-валидации sklearn.cross_validation.KFold. В качестве меры качества воспользуйтесь коэффициентом детерминации (sklearn.metrics.r2_score).\n",
    "\n",
    "Определите, при каком минимальном количестве деревьев случайный лес показывает качество на кросс-валидации выше 0.52. Это количество и будет ответом на задание.\n",
    "\n",
    "Обратите внимание на изменение качества по мере роста числа деревьев. Ухудшается ли оно?"
   ]
  },
  {
   "cell_type": "code",
   "execution_count": 4,
   "metadata": {},
   "outputs": [
    {
     "data": {
      "image/png": "[encoded data removed]",
      "text/plain": [
       "<matplotlib.figure.Figure at 0x7f9e83ec6b50>"
      ]
     },
     "metadata": {},
     "output_type": "display_data"
    },
    {
     "name": "stdout",
     "output_type": "stream",
     "text": [
      "first classifier with score over 0.52 has 22 estimators\n"
     ]
    }
   ],
   "source": [
    "from sklearn.model_selection import KFold\n",
    "from sklearn.ensemble import RandomForestRegressor\n",
    "from sklearn.metrics import r2_score\n",
    "from sklearn.model_selection import cross_val_score\n",
    "\n",
    "cv = KFold(n_splits=5, shuffle=True, random_state=1)\n",
    "scoring='r2'\n",
    "ansr=-1\n",
    "scores=[]\n",
    "for num in range(1,51):\n",
    "    clf = RandomForestRegressor(random_state=1,n_estimators=num)\n",
    "    scr=cross_val_score(clf, X, y, cv=cv,scoring = scoring).mean()\n",
    "    scores.append(scr)\n",
    "    if ansr==-1 and scr>0.52:\n",
    "        ansr=num\n",
    "        \n",
    "import matplotlib.pyplot as plt\n",
    "from lib.plotmd import plotVector\n",
    "plotVector(np.array(scores),\"score as function of number of estimators\",\"estimators number\",\"score\")\n",
    "plt.show()\n",
    "\n",
    "print \"first classifier with score over 0.52 has {} estimators\".format(ansr)\n",
    "write_to_file(ansr,\"week%d-A%dT%d.out\"%(5,1,1))\n",
    "#write_to_file(str(ansr),'task1.out')\n"
   ]
  }
 ],
 "metadata": {
  "kernelspec": {
   "display_name": "Python 2",
   "language": "python",
   "name": "python2"
  },
  "language_info": {
   "codemirror_mode": {
    "name": "ipython",
    "version": 2
   },
   "file_extension": ".py",
   "mimetype": "text/x-python",
   "name": "python",
   "nbconvert_exporter": "python",
   "pygments_lexer": "ipython2",
   "version": "2.7.12"
  }
 },
 "nbformat": 4,
 "nbformat_minor": 2
}
