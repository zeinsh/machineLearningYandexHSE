{
 "cells": [
  {
   "cell_type": "markdown",
   "metadata": {},
   "source": [
    "# Programming Assignment: Линейная регрессия: прогноз оклада по описанию вакансии\n",
    "# Linear Regression: Salary forecast by job description\n",
    "\n",
    "## Ridge \n",
    "### tf-idf \n",
    "### one hot encoding"
   ]
  },
  {
   "cell_type": "code",
   "execution_count": 1,
   "metadata": {},
   "outputs": [],
   "source": [
    "import numpy as np\n",
    "import pandas"
   ]
  },
  {
   "cell_type": "markdown",
   "metadata": {},
   "source": [
    "1. Загрузите данные об описаниях вакансий и соответствующих годовых зарплатах из файла salary-train.csv (либо его заархивированную версию salary-train.zip)."
   ]
  },
  {
   "cell_type": "code",
   "execution_count": 2,
   "metadata": {},
   "outputs": [
    {
     "name": "stdout",
     "output_type": "stream",
     "text": [
      "<class 'pandas.core.frame.DataFrame'>\n",
      "RangeIndex: 60000 entries, 0 to 59999\n",
      "Data columns (total 4 columns):\n",
      "FullDescription       60000 non-null object\n",
      "LocationNormalized    60000 non-null object\n",
      "ContractTime          44418 non-null object\n",
      "SalaryNormalized      60000 non-null int64\n",
      "dtypes: int64(1), object(3)\n",
      "memory usage: 1.8+ MB\n",
      "--------------------\n",
      "       SalaryNormalized\n",
      "count      60000.000000\n",
      "mean       34084.931500\n",
      "std        17593.539646\n",
      "min         5000.000000\n",
      "25%        21500.000000\n",
      "50%        30000.000000\n",
      "75%        42500.000000\n",
      "max       200000.000000\n",
      "--------------------\n",
      "                                     FullDescription LocationNormalized  \\\n",
      "0  International Sales Manager London ****k  ****...             London   \n",
      "1  An ideal opportunity for an individual that ha...             London   \n",
      "2  Online Content and Brand Manager// Luxury Reta...  South East London   \n",
      "3  A great local marketleader is seeking a perman...            Dereham   \n",
      "4  Registered Nurse / RGN  Nursing Home for Young...   Sutton Coldfield   \n",
      "\n",
      "  ContractTime  SalaryNormalized  \n",
      "0    permanent             33000  \n",
      "1    permanent             50000  \n",
      "2    permanent             40000  \n",
      "3    permanent             22500  \n",
      "4          NaN             20355  \n"
     ]
    }
   ],
   "source": [
    "data=pandas.read_csv('salary-train.csv')\n",
    "data.info()\n",
    "print '-'*20\n",
    "print data.describe()\n",
    "print '-'*20\n",
    "print data.head()"
   ]
  },
  {
   "cell_type": "markdown",
   "metadata": {},
   "source": [
    "2- Проведите предобработку:\n",
    "\n",
    "- Приведите тексты к нижнему регистру (text.lower()).\n",
    "- Замените все, кроме букв и цифр, на пробелы — это облегчит дальнейшее разделение текста на слова. Для такой замены в строке text подходит следующий вызов: re.sub('[^a-zA-Z0-9]', ' ', text). Также можно воспользоваться методом replace у DataFrame, чтобы сразу преобразовать все тексты:\n",
    "\n",
    "train['FullDescription'] = train['FullDescription'].replace('[^a-zA-Z0-9]', ' ', regex = True)\n",
    "\n",
    "- Замените пропуски в столбцах LocationNormalized и ContractTime на специальную строку 'nan'. Код для этого был приведен выше.\n",
    "\n",
    "2 - Guide preprocessing:\n",
    "\n",
    "- Bring texts to lowercase (text.lower()).\n",
    "- Replace everything except letters and numbers with spaces — it will facilitate the further division of the text into words. For such replacement in the string text fits the following call: re.sub('[^a-zA-Z0-9]', ' ', text). You can also use the replace method from DataFrame to convert all the texts:\n",
    "\n",
    "train['FullDescription'] = train['FullDescription'].replace('[^a-zA-Z0-9]', ' ', regex = True)\n",
    "\n",
    "- Replace the blanks in the columns LocationNormalized and ContractTime on the special string 'nan'. The code for this was given above.\n"
   ]
  },
  {
   "cell_type": "code",
   "execution_count": 3,
   "metadata": {},
   "outputs": [],
   "source": [
    "data['LocationNormalized'].fillna('nan', inplace=True)\n",
    "data['ContractTime'].fillna('nan', inplace=True)\n",
    "data['FullDescription'] = data['FullDescription'].str.lower().replace('[^a-zA-Z0-9]', ' ', regex = True)\n",
    "y=data['SalaryNormalized']"
   ]
  },
  {
   "attachments": {},
   "cell_type": "markdown",
   "metadata": {},
   "source": [
    "## Tf-idf \n",
    "\n",
    "- Примените TfidfVectorizer для преобразования текстов в векторы признаков. Оставьте только те слова, которые встречаются хотя бы в 5 объектах (параметр min_df у TfidfVectorizer).\n",
    "\n",
    "- Use TfidfVectorizer to transform texts into vectors of characteristics. Leave only those words that occur at least 5 objects (parameter min_df have TfidfVectorizer).\n",
    "\n",
    "<img src=\"https://deeplearning4j.org/img/tfidf.png\"/>\n",
    "<hr>\n",
    "<img src=\"http://www.joyofdata.de/blog/wp-content/uploads/2014/02/tf-idf.png\"/>"
   ]
  },
  {
   "cell_type": "code",
   "execution_count": 4,
   "metadata": {},
   "outputs": [],
   "source": [
    "from sklearn.feature_extraction.text import TfidfVectorizer\n",
    "vectorizer=TfidfVectorizer(min_df=5)\n",
    "corpus_tf_idf = vectorizer.fit_transform(data['FullDescription'])"
   ]
  },
  {
   "cell_type": "markdown",
   "metadata": {},
   "source": [
    "## One hot encoding\n",
    "\n",
    "- Примените DictVectorizer для получения one-hot-кодирования признаков LocationNormalized и ContractTime.\n",
    "- Use DictVectorizer to obtain one-hot encoded signs LocationNormalized and ContractTime."
   ]
  },
  {
   "cell_type": "code",
   "execution_count": 5,
   "metadata": {},
   "outputs": [],
   "source": [
    "from sklearn.feature_extraction import DictVectorizer\n",
    "enc = DictVectorizer()\n",
    "Xnew =enc.fit_transform(data[['LocationNormalized', 'ContractTime']].to_dict('records'))"
   ]
  },
  {
   "cell_type": "markdown",
   "metadata": {},
   "source": [
    "- Объедините все полученные признаки в одну матрицу \"объекты-признаки\". Обратите внимание, что матрицы для текстов и категориальных признаков являются разреженными. Для объединения их столбцов нужно воспользоваться функцией scipy.sparse.hstack.\n",
    "- Combine all the signs into one matrix \"objects-features\". Note that the matrix for text and categorical features are sparse. To merge columns you need to use the function scipy.sparse.hstack."
   ]
  },
  {
   "cell_type": "code",
   "execution_count": 6,
   "metadata": {},
   "outputs": [],
   "source": [
    "from scipy.sparse import coo_matrix, hstack\n",
    "X=hstack([Xnew,corpus_tf_idf])"
   ]
  },
  {
   "cell_type": "markdown",
   "metadata": {},
   "source": [
    "3- Обучите гребневую регрессию с параметрами alpha=1 и random_state=241. Целевая переменная записана в столбце SalaryNormalized.\n",
    "\n",
    "3- Train the ridge regression with parameters alpha=1, random_state=241. The target variable is written in the column SalaryNormalized."
   ]
  },
  {
   "cell_type": "code",
   "execution_count": 7,
   "metadata": {},
   "outputs": [
    {
     "data": {
      "text/plain": [
       "Ridge(alpha=1.0, copy_X=True, fit_intercept=True, max_iter=None,\n",
       "   normalize=False, random_state=241, solver='auto', tol=0.001)"
      ]
     },
     "execution_count": 7,
     "metadata": {},
     "output_type": "execute_result"
    }
   ],
   "source": [
    "from sklearn.linear_model import Ridge\n",
    "import numpy as np\n",
    "clf = Ridge(alpha=1.0,random_state=241)\n",
    "clf.fit(X, y) "
   ]
  },
  {
   "cell_type": "markdown",
   "metadata": {},
   "source": [
    "4- Постройте прогнозы для двух примеров из файла salary-test-mini.csv. Значения полученных прогнозов являются ответом на задание. Укажите их через пробел.\n",
    "\n",
    "4- Build forecasts for the two examples from the file salary-test-mini.csv. The values obtained predictions are a response to the task. Specify them separated by space."
   ]
  },
  {
   "cell_type": "code",
   "execution_count": 8,
   "metadata": {},
   "outputs": [],
   "source": [
    "test=pandas.read_csv('test1.csv')\n",
    "test['LocationNormalized'].fillna('nan', inplace=True)\n",
    "test['ContractTime'].fillna('nan', inplace=True)\n",
    "test['FullDescription'] = test['FullDescription'].str.lower().replace('[^a-zA-Z0-9]', ' ', regex = True)\n",
    "\n",
    "Xtest1= enc.transform(test[['LocationNormalized', 'ContractTime']].to_dict('records'))\n",
    "Xtest2= vectorizer.transform(test['FullDescription'])\n",
    "Xtest=hstack([Xtest1,Xtest2])\n",
    "ret= clf.predict(Xtest)\n",
    "\n",
    "from lib.helpersmd import write_to_file\n",
    "report=\"{:0.2f} {:0.2f}\".format(ret[0],ret[1])\n",
    "write_to_file(report,\"week%d-A%dT%d.out\"%(4,1,1))"
   ]
  }
 ],
 "metadata": {
  "kernelspec": {
   "display_name": "Python 2",
   "language": "python",
   "name": "python2"
  },
  "language_info": {
   "codemirror_mode": {
    "name": "ipython",
    "version": 2
   },
   "file_extension": ".py",
   "mimetype": "text/x-python",
   "name": "python",
   "nbconvert_exporter": "python",
   "pygments_lexer": "ipython2",
   "version": "2.7.12"
  }
 },
 "nbformat": 4,
 "nbformat_minor": 2
}
