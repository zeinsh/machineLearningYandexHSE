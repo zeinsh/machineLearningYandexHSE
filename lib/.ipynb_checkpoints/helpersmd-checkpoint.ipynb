{
 "cells": [
  {
   "cell_type": "code",
   "execution_count": 1,
   "metadata": {},
   "outputs": [],
   "source": [
    "def write_to_file(report,filename):\n",
    "    f=open(\"output/\"+filename,\"w\")\n",
    "    f.write(str(report))\n",
    "    f.close()\n",
    "    \n",
    "def getLine(w,bias,fig_boundary):\n",
    "    import numpy as np\n",
    "    x_min,x_max=fig_boundary[\"x_min\"],fig_boundary[\"x_max\"]\n",
    "    y_min,y_max=fig_boundary[\"y_min\"],fig_boundary[\"y_max\"]\n",
    "    print w\n",
    "    if w[1]!=0 and abs(w[0])>abs(w[1]):\n",
    "        yy=np.array([y_min,y_max])\n",
    "        xx=(-bias-yy*w[1])/w[0]\n",
    "    else:\n",
    "        xx=np.array([x_min,x_max])\n",
    "        yy=(-bias-xx*w[0])/w[1]\n",
    "    return xx,yy"
   ]
  }
 ],
 "metadata": {
  "kernelspec": {
   "display_name": "Python 2",
   "language": "python",
   "name": "python2"
  },
  "language_info": {
   "codemirror_mode": {
    "name": "ipython",
    "version": 2
   },
   "file_extension": ".py",
   "mimetype": "text/x-python",
   "name": "python",
   "nbconvert_exporter": "python",
   "pygments_lexer": "ipython2",
   "version": "2.7.12"
  }
 },
 "nbformat": 4,
 "nbformat_minor": 2
}
