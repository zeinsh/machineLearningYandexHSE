{
 "cells": [
  {
   "cell_type": "code",
   "execution_count": 2,
   "metadata": {},
   "outputs": [],
   "source": [
    "def scatterData(X,y,classmap):\n",
    "    import matplotlib.pyplot as plt\n",
    "    for c,label in classmap.iteritems():\n",
    "        pltdata=X[(y==c)]\n",
    "        plt.scatter(pltdata[:,0], pltdata[:,1] ,label=label) "
   ]
  },
  {
   "cell_type": "code",
   "execution_count": 1,
   "metadata": {},
   "outputs": [],
   "source": [
    "def plotDecisionBoundary(w,bias,fig_boundary):\n",
    "    import matplotlib.pyplot as plt\n",
    "    from helpersmd import getLine\n",
    "    xline,yline=getLine(w,bias,fig_boundary)\n",
    "    plt.plot(xline,yline, 'k-',label=\"Decision Boundary\")\n"
   ]
  },
  {
   "cell_type": "code",
   "execution_count": 2,
   "metadata": {},
   "outputs": [
    {
     "name": "stdout",
     "output_type": "stream",
     "text": [
      "[1, 0]\n"
     ]
    },
    {
     "data": {
      "image/png": "[encoded data removed]",
      "text/plain": [
       "<matplotlib.figure.Figure at 0x7f76b0632dd0>"
      ]
     },
     "metadata": {},
     "output_type": "display_data"
    }
   ],
   "source": [
    "import matplotlib.pyplot as plt\n",
    "fig_boundary={}\n",
    "fig_boundary[\"x_min\"],fig_boundary[\"x_max\"]= -3,3\n",
    "fig_boundary[\"y_min\"],fig_boundary[\"y_max\"]= -3,3\n",
    "w=[1,0]\n",
    "b=1\n",
    "plotDecisionBoundary(w,b,fig_boundary)\n",
    "plt.show()"
   ]
  }
 ],
 "metadata": {
  "kernelspec": {
   "display_name": "Python 2",
   "language": "python",
   "name": "python2"
  },
  "language_info": {
   "codemirror_mode": {
    "name": "ipython",
    "version": 2
   },
   "file_extension": ".py",
   "mimetype": "text/x-python",
   "name": "python",
   "nbconvert_exporter": "python",
   "pygments_lexer": "ipython2",
   "version": "2.7.12"
  }
 },
 "nbformat": 4,
 "nbformat_minor": 2
}
