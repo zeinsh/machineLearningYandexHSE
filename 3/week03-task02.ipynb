{
 "cells": [
  {
   "cell_type": "markdown",
   "metadata": {},
   "source": [
    "# SVM\n",
    "## Text analysis \n",
    "## Programming Assignment: Анализ текстов\n",
    "\n",
    "- SVM\n",
    "- TF-idf\n",
    "- Grid search"
   ]
  },
  {
   "cell_type": "code",
   "execution_count": 1,
   "metadata": {},
   "outputs": [],
   "source": [
    "import numpy as np\n",
    "import pandas\n",
    "from lib.helpersmd import write_to_file"
   ]
  },
  {
   "cell_type": "markdown",
   "metadata": {},
   "source": [
    "1- Load items from the news 20 newsgroups database, related to the categories \"space\" and \"atheism\". Please note that downloading data may take several minutes .\n",
    "\n",
    "1- Загрузите объекты из новостного датасета 20 newsgroups, относящиеся к категориям \"космос\" и \"атеизм\" . Обратите внимание, что загрузка данных может занять несколько минут"
   ]
  },
  {
   "cell_type": "code",
   "execution_count": 2,
   "metadata": {},
   "outputs": [
    {
     "name": "stdout",
     "output_type": "stream",
     "text": [
      "<type 'list'> <type 'numpy.ndarray'>\n",
      "Corpus size : 1786;target shape :(1786,)\n",
      "Example\n",
      "----------------------------------------\n",
      "From: 9051467f@levels.unisa.edu.au (The Desert Brat)\n",
      "Subject: Re: Keith Schneider - Stealth Poster?\n",
      "Organization: Cured, discharged\n",
      "Lines: 24\n",
      "\n",
      "In article <1pa0f4INNpit@gap.caltech.edu>, keith@cco.caltech.edu (Keith Allan Schneider) writes:\n",
      "\n",
      "> But really, are you threatened by the motto, or by the people that use it?\n",
      "\n",
      "Every time somone writes something and says it is merely describing the norm,\n",
      "it is infact re-inforcing that norm upon those programmed not to think for\n",
      "themselves. The motto is dangerous in itself, it tells the world that every\n",
      "*true* American is god-fearing, and puts down those who do not fear gods. It\n",
      "doesn't need anyone to make it dangerous, it does a good job itself by just\n",
      "existing on your currency.\n",
      "\n",
      "> keith\n",
      "\n",
      "The Desert Brat\n",
      "-- \n",
      "John J McVey, Elc&Eltnc Eng, Whyalla, Uni S Australia,    ________\n",
      "9051467f@levels.unisa.edu.au      T.S.A.K.C.            \\/Darwin o\\\n",
      "For replies, mail to whjjm@wh.whyalla.unisa.edu.au      /\\________/\n",
      "Disclaimer: Unisa hates my opinions.                       bb  bb\n",
      "+------------------------------------------------------+-----------------------+\n",
      "|\"It doesn't make a rainbow any less beautiful that we | \"God's name is smack  |\n",
      "|understand the refractive mechanisms that chance to   | for some.\"            |\n",
      "|produce it.\" - Jim Perry, perry@dsinc.com             |    - Alice In Chains  |\n",
      "+------------------------------------------------------+-----------------------+\n",
      "\n",
      "Class 0\n",
      "----------------------------------------\n"
     ]
    }
   ],
   "source": [
    "from sklearn import datasets\n",
    "\n",
    "newsgroups = datasets.fetch_20newsgroups(\n",
    "                    subset='all', \n",
    "                    categories=['alt.atheism', 'sci.space']\n",
    ")\n",
    "\n",
    "data=newsgroups.data\n",
    "target=newsgroups.target\n",
    "\n",
    "# output one sample\n",
    "print type(data),type(target)\n",
    "print \"Corpus size : {};target shape :{}\".format(len(data),target.shape)\n",
    "print \"Example\"\n",
    "print '-'*40\n",
    "print data[0]\n",
    "print \"Class\",target[0]\n",
    "print '-'*40"
   ]
  },
  {
   "cell_type": "markdown",
   "metadata": {},
   "source": [
    "2- Calculate TF-IDF-tags for all texts. Note that in this task we suggest that you calculate TF-IDF for all data. With this approach, it turns out that the attributes on the training set use information from the test sample - but such a situation is perfectly legal, since we do not use the values ​​of the target variable from the test. In practice, there are often situations where the characteristics of test sample objects are known at the time of training, and therefore you can use them when learning the algorithm.\n",
    "\n",
    "2- Вычислите TF-IDF-признаки для всех текстов. Обратите внимание, что в этом задании мы предлагаем вам вычислить TF-IDF по всем данным. При таком подходе получается, что признаки на обучающем множестве используют информацию из тестовой выборки — но такая ситуация вполне законна, поскольку мы не используем значения целевой переменной из теста. На практике нередко встречаются ситуации, когда признаки объектов тестовой выборки известны на момент обучения, и поэтому можно ими пользоваться при обучении алгоритма."
   ]
  },
  {
   "cell_type": "markdown",
   "metadata": {},
   "source": [
    "## idf \n",
    "\n",
    "### The inverse document frequency is a measure of how much information the word provides, that is, whether the term is common or rare across all documents. \n",
    " \n",
    "$idf(t,D)=log(N\\div(1+|\\{d\\in D:t\\in d\\}|)) $\n",
    "\n",
    "with\n",
    "\n",
    "$N$ : total number of documents in the corpus $N=|D|$\n",
    "\n",
    "$|\\{d\\in D:t\\in d\\}|$ : number of documents where the term t appears \n",
    "\n",
    "$ (1+|\\{d\\in D:t\\in d\\}|) $ : we adjust the dominator by adding 1 in case term t is not existed in the corpus , to avoid division by 0"
   ]
  },
  {
   "cell_type": "code",
   "execution_count": 3,
   "metadata": {},
   "outputs": [
    {
     "name": "stdout",
     "output_type": "stream",
     "text": [
      "Number of features : 28382\n",
      "Example feautre : assure ; weight : 7.10199915404\n"
     ]
    }
   ],
   "source": [
    "from sklearn.feature_extraction.text import TfidfVectorizer\n",
    "vectorizer=TfidfVectorizer()\n",
    "X=corpus_tf_idf = vectorizer.fit_transform(data)  #sparse matrix\n",
    "\n",
    "feature_mapping = vectorizer.get_feature_names()    #features names\n",
    "idf = vectorizer.idf_    # weights of each feature\n",
    "\n",
    "# output example\n",
    "print \"Number of features : {}\".format(len(feature_mapping))\n",
    "print \"Example feautre : {} ; weight : {}\".format(feature_mapping[5020],idf[5020])"
   ]
  },
  {
   "cell_type": "markdown",
   "metadata": {},
   "source": [
    "3- Choose the minimum best parameter C from the set [10 ^ -5, 10 ^ -4, ... 10 ^ 4, 10 ^ 5] for SVM with a linear kernel (kernel = 'linear') using cross-validation of 5 blocks. Specify the random_state = 241 parameter for both SVM and KFold. As a measure of quality, use the proportion of correct answers (accuracy).\n",
    "\n",
    "\n",
    "3- Подберите минимальный лучший параметр C из множества [10^-5, 10^-4, ... 10^4, 10^5] для SVM с линейным ядром (kernel='linear') при помощи кросс-валидации по 5 блокам. Укажите параметр random_state=241 и для SVM, и для KFold. В качестве меры качества используйте долю верных ответов (accuracy)."
   ]
  },
  {
   "cell_type": "code",
   "execution_count": 4,
   "metadata": {},
   "outputs": [
    {
     "name": "stdout",
     "output_type": "stream",
     "text": [
      "start\n",
      "--- 273.785838127 seconds ---\n"
     ]
    }
   ],
   "source": [
    "from  sklearn.model_selection import GridSearchCV\n",
    "from sklearn.model_selection import KFold\n",
    "from sklearn import svm\n",
    "\n",
    "grid = {'C': np.power(10.0, np.arange(-5, 6))}\n",
    "cv = KFold(n_splits=5, shuffle=True, random_state=241)\n",
    "clf = svm.SVC(kernel='linear', random_state=241)\n",
    "\n",
    "\n",
    "#compute execution time\n",
    "import time\n",
    "print 'start'\n",
    "start_time = time.time()\n",
    "# start Grid Search\n",
    "gs = GridSearchCV(clf, grid, scoring='accuracy', cv=cv)\n",
    "gs.fit(X, newsgroups.target)\n",
    "# output time\n",
    "print(\"--- %s seconds ---\" % (time.time() - start_time))"
   ]
  },
  {
   "cell_type": "code",
   "execution_count": 5,
   "metadata": {},
   "outputs": [
    {
     "data": {
      "image/png": "[encoded data removed]",
      "text/plain": [
       "<matplotlib.figure.Figure at 0x7fa3e42c5e90>"
      ]
     },
     "metadata": {},
     "output_type": "display_data"
    }
   ],
   "source": [
    "import matplotlib.pyplot as plt\n",
    "mean_test_score=np.array(gs.cv_results_['mean_test_score'])\n",
    "Cvalues=np.power(10.,np.arange(-5,6))\n",
    "y_axis = np.arange(11)\n",
    "plt.barh( y_axis,mean_test_score, align='center')\n",
    "plt.yticks(y_axis, Cvalues)\n",
    "plt.ylabel(\"C\")\n",
    "plt.xlabel(\"cross validation score\")\n",
    "plt.suptitle(\"Evaluate model performance at different C values\")\n",
    "plt.title(\"SVM Classifier - cross validation\")\n",
    "plt.show()"
   ]
  },
  {
   "cell_type": "code",
   "execution_count": 6,
   "metadata": {},
   "outputs": [
    {
     "name": "stdout",
     "output_type": "stream",
     "text": [
      "Optimal value of C using Grid Search : 1.0\n"
     ]
    }
   ],
   "source": [
    "nv=len(mean_test_score)\n",
    "optimalC=Cvalues[mean_test_score.argmax()]\n",
    "print \"Optimal value of C using Grid Search : {}\".format(optimalC)"
   ]
  },
  {
   "cell_type": "markdown",
   "metadata": {},
   "source": [
    "4- Train SVM throughout the sample with the optimal parameter C found in the previous step.\n",
    "\n",
    "4- Обучите SVM по всей выборке с оптимальным параметром C, найденным на предыдущем шаге."
   ]
  },
  {
   "cell_type": "code",
   "execution_count": 7,
   "metadata": {},
   "outputs": [
    {
     "data": {
      "text/plain": [
       "(1, 28382)"
      ]
     },
     "execution_count": 7,
     "metadata": {},
     "output_type": "execute_result"
    }
   ],
   "source": [
    "from sklearn import svm\n",
    "clf = svm.SVC(kernel='linear',C=optimalC, random_state=241)\n",
    "clf.fit(X,target)\n",
    "clf.coef_.shape"
   ]
  },
  {
   "cell_type": "markdown",
   "metadata": {},
   "source": [
    "5- Find 10 words with the largest absolute weight value (weights are stored in the coef_ field of svm.SVC). They are the answer to this task. Specify these words separated by commas or spaces, in lower case, in lexicographical order.\n",
    "\n",
    "5- Найдите 10 слов с наибольшим абсолютным значением веса (веса хранятся в поле coef_ у svm.SVC). Они являются ответом на это задание. Укажите эти слова через запятую или пробел, в нижнем регистре, в лексикографическом порядке."
   ]
  },
  {
   "cell_type": "code",
   "execution_count": 8,
   "metadata": {},
   "outputs": [],
   "source": [
    "coef=clf.coef_\n",
    "data=coef.data\n",
    "indices=coef.indices\n",
    "combined=dict(zip(indices,abs(data)))\n",
    "sortedRes = sorted(combined.items(), key=lambda kv: kv[1], reverse=True)[:10]\n",
    "words=sorted([feature_mapping[tup[0]] for tup in sortedRes])\n",
    "ans=\" \".join(words)\n",
    "write_to_file(ans,\"week%d-A%dT%d.out\"%(3,2,1))"
   ]
  }
 ],
 "metadata": {
  "kernelspec": {
   "display_name": "Python 2",
   "language": "python",
   "name": "python2"
  },
  "language_info": {
   "codemirror_mode": {
    "name": "ipython",
    "version": 2
   },
   "file_extension": ".py",
   "mimetype": "text/x-python",
   "name": "python",
   "nbconvert_exporter": "python",
   "pygments_lexer": "ipython2",
   "version": "2.7.12"
  }
 },
 "nbformat": 4,
 "nbformat_minor": 2
}
