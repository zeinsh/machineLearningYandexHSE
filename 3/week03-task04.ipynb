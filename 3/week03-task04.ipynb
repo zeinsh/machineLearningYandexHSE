{
 "cells": [
  {
   "cell_type": "markdown",
   "metadata": {},
   "source": [
    "## Metrics for evaluation of classificators  \n",
    "\n",
    "## Programming Assignment: Метрики качества классификации"
   ]
  },
  {
   "cell_type": "code",
   "execution_count": 1,
   "metadata": {},
   "outputs": [],
   "source": [
    "import numpy as np\n",
    "import pandas\n",
    "from lib.helpersmd import write_to_file"
   ]
  },
  {
   "cell_type": "markdown",
   "metadata": {},
   "source": [
    "1- Load classification.csv file. It contains the true classes of the sample objects (column true) and the answers of some classifier (column pred).\n",
    "\n",
    "1- Загрузите файл classification.csv. В нем записаны истинные классы объектов выборки (колонка true) и ответы некоторого классификатора (колонка pred)."
   ]
  },
  {
   "cell_type": "code",
   "execution_count": 2,
   "metadata": {},
   "outputs": [
    {
     "name": "stdout",
     "output_type": "stream",
     "text": [
      "<class 'pandas.core.frame.DataFrame'>\n",
      "RangeIndex: 200 entries, 0 to 199\n",
      "Data columns (total 2 columns):\n",
      "true    200 non-null int64\n",
      "pred    200 non-null int64\n",
      "dtypes: int64(2)\n",
      "memory usage: 3.2 KB\n",
      "--------------------\n",
      "             true        pred\n",
      "count  200.000000  200.000000\n",
      "mean     0.510000    0.385000\n",
      "std      0.501154    0.487816\n",
      "min      0.000000    0.000000\n",
      "25%      0.000000    0.000000\n",
      "50%      1.000000    0.000000\n",
      "75%      1.000000    1.000000\n",
      "max      1.000000    1.000000\n",
      "--------------------\n",
      "   true  pred\n",
      "0     1     0\n",
      "1     1     1\n",
      "2     1     1\n",
      "3     0     0\n",
      "4     1     1\n"
     ]
    }
   ],
   "source": [
    "data=pandas.read_csv('classification.csv')\n",
    "true=np.array(data.iloc[:,0])\n",
    "predicted=np.array(data.iloc[:,1])\n",
    "\n",
    "data.info()\n",
    "print '-'*20\n",
    "print data.describe()\n",
    "print '-'*20\n",
    "print data.head()"
   ]
  },
  {
   "cell_type": "markdown",
   "metadata": {},
   "source": [
    "<table><tr><td></td><td>Actual Positive</td><td>Actual Negative</td></tr><tr><td>Predicted Positive</td><td>TP</td><td>FP</td></tr><tr><td>Predicted Negative</td><td>FN</td><td>TN</td></tr></table>\n",
    "\n",
    "2- Fill in the classification error table:\n",
    "To do this, calculate the values TP, FP, FN and TN according to their definitions. For example, FP is the number of objects that have a class of 0, but assigned to class 1 by the algorithm. The answer in this question is four numbers through a space.\n",
    "\n",
    "2- Заполните таблицу ошибок классификации:\n",
    "Для этого подсчитайте величины TP, FP, FN и TN согласно их определениям. Например, FP — это количество объектов, имеющих класс 0, но отнесенных алгоритмом к классу 1. Ответ в данном вопросе — четыре числа через пробел."
   ]
  },
  {
   "cell_type": "code",
   "execution_count": 3,
   "metadata": {},
   "outputs": [],
   "source": [
    "TP=np.multiply(true,predicted)\n",
    "FP=np.multiply(1-true,predicted)\n",
    "FN=np.multiply(true,1-predicted)\n",
    "TN=np.multiply(1-true,1-predicted)\n",
    "\n",
    "sTP=TP.sum()\n",
    "sFP=FP.sum()\n",
    "sFN=FN.sum()\n",
    "sTN=TN.sum()\n",
    "\n",
    "counts=\"{} {} {} {}\".format(sTP,sFP,sFN,sTN)\n",
    "write_to_file(counts,\"week%d-A%dT%d.out\"%(3,4,1))"
   ]
  },
  {
   "cell_type": "markdown",
   "metadata": {},
   "source": [
    "4- Calculate the main quality metrics of the classifier:\n",
    "\n",
    "- Accuracy (the portion of correctly guessed) - sklearn.metrics.accuracy_score\n",
    "- Precision (accuracy) - sklearn.metrics.precision_score\n",
    "- Recall (completeness) - sklearn.metrics.recall_score\n",
    "- F-Measure - sklearn.metrics.f1_score\n",
    "\n",
    "As a response, indicate these four numbers through a space.\n",
    "\n",
    "4-  Посчитайте основные метрики качества классификатора:\n",
    "\n",
    "- Accuracy (доля верно угаданных) — sklearn.metrics.accuracy_score\n",
    "- Precision (точность) — sklearn.metrics.precision_score\n",
    "- Recall (полнота) — sklearn.metrics.recall_score\n",
    "- F-мера — sklearn.metrics.f1_score\n",
    "\n",
    "В качестве ответа укажите эти четыре числа через пробел.\n",
    "\n",
    "<img src=\"http://www.impactjournals.com/oncotarget/index.php?journal=oncotarget&page=article&op=viewFile&path%5B%5D=21127&path%5B%5D=67266&path%5B%5D=301872\"/>"
   ]
  },
  {
   "cell_type": "code",
   "execution_count": 4,
   "metadata": {},
   "outputs": [],
   "source": [
    "acc=(sTP+sTN)/(1.0*len(true))\n",
    "prc=(sTP)/float(sTP+sFP)\n",
    "rec=float(sTP)/(sTP+sFN)\n",
    "fmer=(2.0*prc*rec)/(prc+rec)\n",
    "measures_quality=\"{:.2f} {:.2f} {:.2f} {:.2f}\".format(acc,prc,rec,fmer)\n",
    "write_to_file(measures_quality,\"week%d-A%dT%d.out\"%(3,4,2))"
   ]
  },
  {
   "cell_type": "markdown",
   "metadata": {},
   "source": [
    "4- There are four trained classifiers. The scores.csv file contains the true classes and the degree of belonging to the positive class for each classifier on a certain sample:\n",
    "\n",
    "- for logistic regression - the probability of a positive class (column score_logreg),\n",
    "- for SVM - indent from the separating surface (column score_svm),\n",
    "- for the metric algorithm - the weighted sum of the neighbors' classes (column score_knn),\n",
    "- for the decision tree - the proportion of positive objects in the sheet (column score_tree).\n",
    "\n",
    "Download this file.\n",
    "\n",
    "4- Имеется четыре обученных классификатора. В файле scores.csv записаны истинные классы и значения степени принадлежности положительному классу для каждого классификатора на некоторой выборке:\n",
    "\n",
    "- для логистической регрессии — вероятность положительного класса (колонка score_logreg),\n",
    "- для SVM — отступ от разделяющей поверхности (колонка score_svm),\n",
    "- для метрического алгоритма — взвешенная сумма классов соседей (колонка score_knn),\n",
    "- для решающего дерева — доля положительных объектов в листе (колонка score_tree).\n",
    "\n",
    "Загрузите этот файл."
   ]
  },
  {
   "cell_type": "code",
   "execution_count": 5,
   "metadata": {},
   "outputs": [
    {
     "name": "stdout",
     "output_type": "stream",
     "text": [
      "<class 'pandas.core.frame.DataFrame'>\n",
      "RangeIndex: 200 entries, 0 to 199\n",
      "Data columns (total 5 columns):\n",
      "true            200 non-null int64\n",
      "score_logreg    200 non-null float64\n",
      "score_svm       200 non-null float64\n",
      "score_knn       200 non-null float64\n",
      "score_tree      200 non-null float64\n",
      "dtypes: float64(4), int64(1)\n",
      "memory usage: 7.9 KB\n",
      "--------------------\n",
      "             true  score_logreg   score_svm   score_knn  score_tree\n",
      "count  200.000000    200.000000  200.000000  200.000000  200.000000\n",
      "mean     0.490000      0.539030   -0.061726    0.508445    0.509831\n",
      "std      0.501154      0.254415    0.395520    0.382877    0.335037\n",
      "min      0.000000      0.041960   -1.025733    0.000000    0.000000\n",
      "25%      0.000000      0.319091   -0.348633    0.186385    0.315789\n",
      "50%      0.000000      0.540136   -0.082873    0.519966    0.400000\n",
      "75%      1.000000      0.768519    0.215470    1.000000    0.833333\n",
      "max      1.000000      0.973079    0.919219    1.000000    1.000000\n",
      "--------------------\n",
      "   true  score_logreg  score_svm  score_knn  score_tree\n",
      "0     0      0.683832   0.145976   0.787063    0.500000\n",
      "1     1      0.801966   0.239511   1.000000    0.833333\n",
      "2     0      0.382315  -0.245701   0.000000    0.000000\n",
      "3     1      0.506797  -0.137058   0.000000    0.105263\n",
      "4     1      0.488781  -0.154148   0.000000    0.105263\n"
     ]
    }
   ],
   "source": [
    "#scores.csv\n",
    "data=pandas.read_csv('scores.csv')\n",
    "algorithms_name=data.columns[1:]\n",
    "scores=np.array(data.iloc[:,1:])\n",
    "true=np.array(data.iloc[:,0])\n",
    "data.info()\n",
    "print '-'*20\n",
    "print data.describe()\n",
    "print '-'*20\n",
    "print data.head()"
   ]
  },
  {
   "cell_type": "markdown",
   "metadata": {},
   "source": [
    "5- Calculate the area under the ROC curve for each classifier. Which classifier has the largest value of the AUC-ROC metric (specify the name of the column)? Use the function sklearn.metrics.roc_auc_score.\n",
    "\n",
    "5- Посчитайте площадь под ROC-кривой для каждого классификатора. Какой классификатор имеет наибольшее значение метрики AUC-ROC (укажите название столбца)? Воспользуйтесь функцией sklearn.metrics.roc_auc_score.\n",
    "\n",
    "<img src=\"https://www.intechopen.com/source/html/38584/media/image56.jpeg\"/>\n"
   ]
  },
  {
   "cell_type": "code",
   "execution_count": 6,
   "metadata": {},
   "outputs": [],
   "source": [
    "from sklearn.metrics import roc_auc_score\n",
    "mxscore=-1\n",
    "mxI=0\n",
    "for i in range(4):\n",
    "    y1=scores[:,i]\n",
    "    newscore=roc_auc_score(true,y1)\n",
    "    if mxscore<newscore:mxI,mxscore=i,newscore\n",
    "bestAlgo1=algorithms_name[mxI]\n",
    "write_to_file(bestAlgo1,\"week%d-A%dT%d.out\"%(3,4,3))"
   ]
  },
  {
   "cell_type": "markdown",
   "metadata": {},
   "source": [
    "6- Which classifier achieves the greatest accuracy (Precision) with the (Recall) of at least 70%?\n",
    "\n",
    "6- Какой классификатор достигает наибольшей точности (Precision) при полноте (Recall) не менее 70% ?"
   ]
  },
  {
   "cell_type": "code",
   "execution_count": 7,
   "metadata": {},
   "outputs": [],
   "source": [
    "from sklearn.metrics import precision_recall_curve\n",
    "mxscore=-1\n",
    "mxI=0\n",
    "for i in range(4):\n",
    "    mx=0\n",
    "    y1=scores[:,i]\n",
    "    prc,rec,thresh=precision_recall_curve(true,y1)\n",
    "    #print i,prc,thresh\n",
    "    for j in range(len(prc)):\n",
    "        if rec[j]>0.7:\n",
    "            mx=max(mx,prc[j])\n",
    "    if mxscore<mx:mxI,mxscore=i,mx\n",
    "bestAlgo2=algorithms_name[mxI]\n",
    "write_to_file(bestAlgo2,\"week%d-A%dT%d.out\"%(3,4,4))"
   ]
  }
 ],
 "metadata": {
  "kernelspec": {
   "display_name": "Python 2",
   "language": "python",
   "name": "python2"
  },
  "language_info": {
   "codemirror_mode": {
    "name": "ipython",
    "version": 2
   },
   "file_extension": ".py",
   "mimetype": "text/x-python",
   "name": "python",
   "nbconvert_exporter": "python",
   "pygments_lexer": "ipython2",
   "version": "2.7.12"
  }
 },
 "nbformat": 4,
 "nbformat_minor": 2
}
