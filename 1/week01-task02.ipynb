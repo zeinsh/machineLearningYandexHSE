{
 "cells": [
  {
   "cell_type": "markdown",
   "metadata": {},
   "source": [
    "# Programming Assignment: Важность признаков\n",
    "\n",
    "1) Train Decision Tree Classifier\n",
    "\n",
    "2) Find the most important features"
   ]
  },
  {
   "cell_type": "code",
   "execution_count": 12,
   "metadata": {},
   "outputs": [],
   "source": [
    "import numpy as np\n",
    "from sklearn.tree import DecisionTreeClassifier\n",
    "import pandas\n",
    "from lib.helpersmd import write_to_file"
   ]
  },
  {
   "cell_type": "markdown",
   "metadata": {},
   "source": [
    "№1 Загрузите выборку из файла titanic.csv с помощью пакета Pandas.\n",
    "\n",
    "№2 Оставьте в выборке четыре признака: класс пассажира (Pclass), цену билета (Fare), возраст пассажира (Age) и его пол (Sex).\n",
    "\n",
    "№4 Выделите целевую переменную — она записана в столбце Survived.\n",
    "\n",
    "№5 В данных есть пропущенные значения — например, для некоторых пассажиров неизвестен их возраст. Такие записи при чтении их в pandas принимают значение nan. Найдите все объекты, у которых есть пропущенные признаки, и удалите их из выборки.\n",
    "\n",
    "-----------\n",
    "\n",
    "#1 Load the sample from titanic.csv file using the Pandas package.\n",
    "\n",
    "#2 Keep in the sample four characteristics: passenger class (Pclass), ticket price (Fare), age of the passenger (Age) and his sex (Sex).\n",
    "\n",
    "#4 Select the target variable - it is written in the Survived column.\n",
    "\n",
    "#5 In the data there are missing values ​​- for example, for some passengers their age is unknown. Such records when reading them in pandas take the value of nan. Find all objects that have missing attributes, and remove them from the selection."
   ]
  },
  {
   "cell_type": "code",
   "execution_count": 13,
   "metadata": {},
   "outputs": [],
   "source": [
    "#1\n",
    "data=pandas.read_csv('titanic.csv', index_col='PassengerId')\n",
    "#2\n",
    "columns=['Age','Pclass','Fare','Sex']\n",
    "features=data[columns]\n",
    "#4\n",
    "target=data['Survived']\n",
    "#5\n",
    "target=target[~np.isnan(data['Age'])]\n",
    "data=data[~np.isnan(data['Age'])]"
   ]
  },
  {
   "cell_type": "markdown",
   "metadata": {},
   "source": [
    "№3 Обратите внимание, что признак Sex имеет строковые значения.\n",
    "\n",
    "#3 Note that the Sex flag has string values."
   ]
  },
  {
   "cell_type": "code",
   "execution_count": 14,
   "metadata": {},
   "outputs": [],
   "source": [
    "#3\n",
    "map_array = {'male':0,'female':1}\n",
    "features['Sex'].replace(map_array,inplace=True)"
   ]
  },
  {
   "cell_type": "markdown",
   "metadata": {},
   "source": [
    "№6 Обучите решающее дерево с параметром random_state=241 и остальными параметрами по умолчанию (речь идет о параметрах конструктора DecisionTreeСlassifier).\n",
    "\n",
    "Train the decision tree with the parameter random_state = 241 and the rest of the default parameters (we are talking about the parameters of the DecisionTreeSlassifier constructor)."
   ]
  },
  {
   "cell_type": "code",
   "execution_count": 17,
   "metadata": {},
   "outputs": [],
   "source": [
    "#6\n",
    "clf = DecisionTreeClassifier(random_state=241)\n",
    "clf.fit(features, target)"
   ]
  },
  {
   "cell_type": "markdown",
   "metadata": {},
   "source": [
    "№7 Вычислите важности признаков и найдите два признака с наибольшей важностью. Их названия будут ответами для данной задачи (в качестве ответа укажите названия признаков через запятую или пробел, порядок не важен).\n",
    "\n",
    "Calculate the importance of the signs and find the two signs with the greatest importance. Their names will be the answers for this task (as a response, specify the names of the characteristics by comma or space, the order is not important)."
   ]
  },
  {
   "cell_type": "code",
   "execution_count": 18,
   "metadata": {},
   "outputs": [],
   "source": [
    "#7\n",
    "importances = clf.feature_importances_\n",
    "ind = np.argpartition(importances, -2)[-2:] #max 2 values\n",
    "ans=\"{} {}\".format(columns[ind[0]],columns[ind[1]])\n",
    "write_to_file(ans,\"week%d-A%dT%d.out\"%(1,2,1))"
   ]
  }
 ],
 "metadata": {
  "kernelspec": {
   "display_name": "Python 2",
   "language": "python",
   "name": "python2"
  },
  "language_info": {
   "codemirror_mode": {
    "name": "ipython",
    "version": 2
   },
   "file_extension": ".py",
   "mimetype": "text/x-python",
   "name": "python",
   "nbconvert_exporter": "python",
   "pygments_lexer": "ipython2",
   "version": "2.7.12"
  }
 },
 "nbformat": 4,
 "nbformat_minor": 2
}
