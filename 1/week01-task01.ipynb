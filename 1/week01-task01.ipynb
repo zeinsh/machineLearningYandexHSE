{
 "cells": [
  {
   "cell_type": "markdown",
   "metadata": {},
   "source": [
    "# Предобработка данных в Pandas\n",
    "## Data processing in Pandas"
   ]
  },
  {
   "cell_type": "code",
   "execution_count": 1,
   "metadata": {},
   "outputs": [],
   "source": [
    "import pandas\n",
    "from lib.helpersmd import write_to_file\n",
    "import re"
   ]
  },
  {
   "cell_type": "code",
   "execution_count": 2,
   "metadata": {},
   "outputs": [],
   "source": [
    "data=pandas.read_csv('titanic.csv', index_col='PassengerId')\n",
    "N=data.shape[0]   #number of passengers"
   ]
  },
  {
   "cell_type": "markdown",
   "metadata": {},
   "source": [
    "№1 Какое количество мужчин и женщин ехало на корабле? В качестве ответа приведите два числа через пробел.\n",
    "\n",
    "How many men and women went on the ship? as an answer give two numbers separated by space ."
   ]
  },
  {
   "cell_type": "code",
   "execution_count": 3,
   "metadata": {},
   "outputs": [],
   "source": [
    "#1\n",
    "sex_count=data['Sex'].value_counts()\n",
    "z1='{} {}'.format(sex_count['male'],sex_count['female'])\n",
    "write_to_file(z1,\"week%d-A%dT%d.out\"%(1,1,1))"
   ]
  },
  {
   "cell_type": "markdown",
   "metadata": {},
   "source": [
    "№2 Какой части пассажиров удалось выжить? Посчитайте долю выживших пассажиров. Ответ приведите в процентах (число в интервале от 0 до 100, знак процента не нужен), округлив до двух знаков.\n",
    "\n",
    "What part of the passengers managed to survive? Calculate the proportion of surviving passengers. Answer in percent (number in the range from 0 to 100, the percent sign is not needed), rounded to two numbers."
   ]
  },
  {
   "cell_type": "code",
   "execution_count": 4,
   "metadata": {},
   "outputs": [],
   "source": [
    "#2\n",
    "survCount=data['Survived'].value_counts()\n",
    "surv=survCount[1]\n",
    "z2=\"{:0.2f}\".format((surv*100.0)/N)\n",
    "write_to_file(z2,\"week%d-A%dT%d.out\"%(1,1,2))"
   ]
  },
  {
   "cell_type": "markdown",
   "metadata": {},
   "source": [
    "№3 Какую долю пассажиры первого класса составляли среди всех пассажиров? Ответ приведите в процентах (число в интервале от 0 до 100, знак процента не нужен), округлив до двух знаков.\n",
    "\n",
    "What percentage of the first class passengers were among all passengers? Answer in percent (number in the range from 0 to 100, the percent sign is not needed), rounded to two characters."
   ]
  },
  {
   "cell_type": "code",
   "execution_count": 5,
   "metadata": {},
   "outputs": [],
   "source": [
    "#3\n",
    "pclassCount=data['Pclass'].value_counts()\n",
    "firstC=pclassCount[1]\n",
    "z3=\"{:0.2f}\".format((firstC*100.0)/N)\n",
    "write_to_file(z3,\"week%d-A%dT%d.out\"%(1,1,3))"
   ]
  },
  {
   "cell_type": "markdown",
   "metadata": {},
   "source": [
    "№4 Какого возраста были пассажиры? Посчитайте среднее и медиану возраста пассажиров. В качестве ответа приведите два числа через пробел.\n",
    "\n",
    "How old were the passengers? Calculate the average and median age of passengers. Answer two numbers with a space."
   ]
  },
  {
   "cell_type": "code",
   "execution_count": 6,
   "metadata": {},
   "outputs": [],
   "source": [
    "#4\n",
    "z4=\"{} {}\".format(data['Age'].mean(),data['Age'].median())\n",
    "write_to_file(z4,\"week%d-A%dT%d.out\"%(1,1,4))"
   ]
  },
  {
   "cell_type": "markdown",
   "metadata": {},
   "source": [
    "№5 Коррелируют ли число братьев/сестер/супругов с числом родителей/детей? Посчитайте корреляцию Пирсона между признаками SibSp и Parch.\n",
    "\n",
    "Does the number of brothers / sisters / spouses correlate with the number of parents / children? Calculate the Pearson correlation between the SibSp and Parch attributes."
   ]
  },
  {
   "cell_type": "code",
   "execution_count": 7,
   "metadata": {},
   "outputs": [],
   "source": [
    "#5\n",
    "z5=str(data[['SibSp','Parch']].corr()['SibSp']['Parch'])\n",
    "write_to_file(z5,\"week%d-A%dT%d.out\"%(1,1,5))"
   ]
  },
  {
   "cell_type": "markdown",
   "metadata": {},
   "source": [
    "№6 Какое самое популярное женское имя на корабле? Извлеките из полного имени пассажира (колонка Name) его личное имя (First Name). Это задание — типичный пример того, с чем сталкивается специалист по анализу данных. Данные очень разнородные и шумные, но из них требуется извлечь необходимую информацию. Попробуйте вручную разобрать несколько значений столбца Name и выработать правило для извлечения имен, а также разделения их на женские и мужские.\n",
    "\n",
    "What is the most popular female name on the ship? Extract from the full name of the passenger (column Name) his personal name (First Name). This task is a typical example of what a data analysis specialist faces. The data is very heterogeneous and noisy, but they need to extract the necessary information. Try to manually parse several values of the Name column and work out a rule for extracting names, as well as dividing them into female and male names."
   ]
  },
  {
   "cell_type": "code",
   "execution_count": 8,
   "metadata": {},
   "outputs": [],
   "source": [
    "def extractName(name):\n",
    "    \n",
    "    ind=name.find('Miss. ')\n",
    "    if ind>0:\n",
    "        name=name[ind+6:]\n",
    "        end=name.find(' ')\n",
    "        if end==-1:\n",
    "            return name\n",
    "        else:\n",
    "            return name[:end]\n",
    "    ind=name.find('(')\n",
    "    if ind>0:\n",
    "        name=name[ind+1:]\n",
    "        return name[:name.find(' ')]\n",
    "    \n",
    "counts=data[data[\"Sex\"]==\"female\"][\"Name\"].map(extractName).value_counts()\n",
    "z6=counts.keys()[0]\n",
    "write_to_file(z6,\"week%d-A%dT%d.out\"%(1,1,6))"
   ]
  }
 ],
 "metadata": {
  "kernelspec": {
   "display_name": "Python 2",
   "language": "python",
   "name": "python2"
  },
  "language_info": {
   "codemirror_mode": {
    "name": "ipython",
    "version": 2
   },
   "file_extension": ".py",
   "mimetype": "text/x-python",
   "name": "python",
   "nbconvert_exporter": "python",
   "pygments_lexer": "ipython2",
   "version": "2.7.12"
  }
 },
 "nbformat": 4,
 "nbformat_minor": 2
}
